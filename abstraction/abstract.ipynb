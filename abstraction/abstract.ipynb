{
 "cells": [
  {
   "cell_type": "code",
   "execution_count": 2,
   "metadata": {},
   "outputs": [],
   "source": [
    "data = \"\"\"insert here [not displaying for privacy purposes]\"\"\""
   ]
  },
  {
   "cell_type": "code",
   "execution_count": 3,
   "metadata": {},
   "outputs": [
    {
     "name": "stdout",
     "output_type": "stream",
     "text": [
      "[]\n"
     ]
    }
   ],
   "source": [
    "import re\n",
    "import json\n",
    "import numpy as np\n",
    "\n",
    "messages = []\n",
    "current_message = {}\n",
    "lines = data.split('\\n')\n",
    "\n",
    "for line in lines:\n",
    "    if re.match(r'\\s*\\d{1,2}:\\d{2} (AM|PM)', line):\n",
    "        if current_message:\n",
    "            messages.append(current_message)\n",
    "            current_message = {}\n",
    "        current_message[\"Time\"] = line.strip()\n",
    "    elif line.strip():\n",
    "        if \"Time\" not in current_message:\n",
    "            current_message[\"Name\"] = line.strip()\n",
    "        else:\n",
    "            if \"Message\" not in current_message:\n",
    "                current_message[\"Message\"] = []\n",
    "            current_message[\"Message\"].append(line.strip())\n",
    "\n",
    "if current_message:\n",
    "    messages.append(current_message)\n",
    "\n",
    "for i, message in enumerate(messages):\n",
    "    if i > 0:\n",
    "        if \"Message\" in messages[i-1]:\n",
    "            message[\"Name\"] = messages[i-1][\"Message\"][-1]\n",
    "            temp = ' '.join(messages[i-1][\"Message\"])\n",
    "            temp = temp[0:(len(temp) - len(message[\"Name\"]))]\n",
    "            messages[i-1][\"String\"] = temp\n",
    "            message[\"String\"] = ' '.join(message[\"Message\"])\n",
    "        else:\n",
    "            message[\"Name\"] = \"\"\n",
    "    else:\n",
    "        message[\"Name\"] = \"\"\n",
    "\n",
    "for message in messages:\n",
    "    if \"Message\" in message:\n",
    "        del message[\"Message\"]\n",
    "\n",
    "messages = messages[2:]\n",
    "\n",
    "print(json.dumps(messages, indent=2))"
   ]
  },
  {
   "cell_type": "code",
   "execution_count": null,
   "metadata": {},
   "outputs": [],
   "source": []
  }
 ],
 "metadata": {
  "kernelspec": {
   "display_name": "venv",
   "language": "python",
   "name": "python3"
  },
  "language_info": {
   "codemirror_mode": {
    "name": "ipython",
    "version": 3
   },
   "file_extension": ".py",
   "mimetype": "text/x-python",
   "name": "python",
   "nbconvert_exporter": "python",
   "pygments_lexer": "ipython3",
   "version": "3.10.13"
  }
 },
 "nbformat": 4,
 "nbformat_minor": 2
}
